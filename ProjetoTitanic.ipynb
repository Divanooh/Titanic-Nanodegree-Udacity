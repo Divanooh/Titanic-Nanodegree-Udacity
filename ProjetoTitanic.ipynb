{
 "cells": [
  {
   "cell_type": "markdown",
   "metadata": {
    "collapsed": true
   },
   "source": [
    "<b><h1>Overview</b></h1>\n",
    "\n",
    "Os dados são referentes ao acidente do navio Titanic.\n",
    "Os dados são de 891 passageiros, \n",
    "\n",
    "\n",
    "\n",
    "Survived: Informa se o passageiro sobreviveu ao desastre. 0 = Não; 1 = Sim\n",
    "\n",
    "Pclass: Classe na qual o passageiro viajou. 1 = Primeira Classe; 2 = Segunda Classe; 3 = Terceira Classe\n",
    "\n",
    "Sex: Sexo do passageiro\n",
    "\n",
    "Age: Idade do passageiro\n",
    "\n",
    "Sibsp: Informa a quantidade de irmãos e cônjuges que o paciente possuía na embarcação\n",
    "\n",
    "Parch: Quantidade de crianças e idosos (pais) relativos ao passageiro\n",
    "\n",
    "Fare: Valor da passagem\n",
    "\n",
    "Embarked: Local onde o passageiro embarcou\n"
   ]
  },
  {
   "cell_type": "markdown",
   "metadata": {},
   "source": [
    "<h1>Perguntas a serem respondidas: <br><br>\n",
    "\n",
    "<i>\n",
    "    Qual a relação entre a classe e o número de sobreviventes?<br>\n",
    "    Como é distribuída a idade dos passageiros?<br>\n",
    "    Qual é o sexo dos mortos e sobreviventes do acidente?<br>\n",
    "    O percentual de sobreviência, pode haver relação com a classe?<br>\n",
    "    Qual a proporção de mortos, baseado na localização de embarque?<br>\n",
    "    A proporção de sobreviventes da amostra.   <br> </h1>\n",
    "    \n",
    "AS bibliotecas que serão utilizadas serão:\n",
    "- Pandas\n",
    "- Numpy\n",
    "- MatplotLib\n",
    "- Seaborn\n",
    "\n"
   ]
  },
  {
   "cell_type": "code",
   "execution_count": 1,
   "metadata": {
    "collapsed": true
   },
   "outputs": [],
   "source": [
    "#importação das bibliotecas que iremos trabalhar\n",
    "\n",
    "import pandas as pd\n",
    "import numpy as np\n",
    "import matplotlib.pyplot as plt\n",
    "import seaborn as sns\n",
    "import unicodecsv \n",
    "\n",
    "plt.rcParams[\"figure.figsize\"] = 8,6 #plotando o tamanho das figuras"
   ]
  },
  {
   "cell_type": "code",
   "execution_count": 2,
   "metadata": {},
   "outputs": [
    {
     "data": {
      "text/html": [
       "<div>\n",
       "<style>\n",
       "    .dataframe thead tr:only-child th {\n",
       "        text-align: right;\n",
       "    }\n",
       "\n",
       "    .dataframe thead th {\n",
       "        text-align: left;\n",
       "    }\n",
       "\n",
       "    .dataframe tbody tr th {\n",
       "        vertical-align: top;\n",
       "    }\n",
       "</style>\n",
       "<table border=\"1\" class=\"dataframe\">\n",
       "  <thead>\n",
       "    <tr style=\"text-align: right;\">\n",
       "      <th></th>\n",
       "      <th>PassengerId</th>\n",
       "      <th>Survived</th>\n",
       "      <th>Pclass</th>\n",
       "      <th>Name</th>\n",
       "      <th>Sex</th>\n",
       "      <th>Age</th>\n",
       "      <th>SibSp</th>\n",
       "      <th>Parch</th>\n",
       "      <th>Ticket</th>\n",
       "      <th>Fare</th>\n",
       "      <th>Cabin</th>\n",
       "      <th>Embarked</th>\n",
       "    </tr>\n",
       "  </thead>\n",
       "  <tbody>\n",
       "    <tr>\n",
       "      <th>0</th>\n",
       "      <td>1</td>\n",
       "      <td>0</td>\n",
       "      <td>3</td>\n",
       "      <td>Braund, Mr. Owen Harris</td>\n",
       "      <td>male</td>\n",
       "      <td>22.0</td>\n",
       "      <td>1</td>\n",
       "      <td>0</td>\n",
       "      <td>A/5 21171</td>\n",
       "      <td>7.2500</td>\n",
       "      <td>NaN</td>\n",
       "      <td>S</td>\n",
       "    </tr>\n",
       "    <tr>\n",
       "      <th>1</th>\n",
       "      <td>2</td>\n",
       "      <td>1</td>\n",
       "      <td>1</td>\n",
       "      <td>Cumings, Mrs. John Bradley (Florence Briggs Th...</td>\n",
       "      <td>female</td>\n",
       "      <td>38.0</td>\n",
       "      <td>1</td>\n",
       "      <td>0</td>\n",
       "      <td>PC 17599</td>\n",
       "      <td>71.2833</td>\n",
       "      <td>C85</td>\n",
       "      <td>C</td>\n",
       "    </tr>\n",
       "    <tr>\n",
       "      <th>2</th>\n",
       "      <td>3</td>\n",
       "      <td>1</td>\n",
       "      <td>3</td>\n",
       "      <td>Heikkinen, Miss. Laina</td>\n",
       "      <td>female</td>\n",
       "      <td>26.0</td>\n",
       "      <td>0</td>\n",
       "      <td>0</td>\n",
       "      <td>STON/O2. 3101282</td>\n",
       "      <td>7.9250</td>\n",
       "      <td>NaN</td>\n",
       "      <td>S</td>\n",
       "    </tr>\n",
       "    <tr>\n",
       "      <th>3</th>\n",
       "      <td>4</td>\n",
       "      <td>1</td>\n",
       "      <td>1</td>\n",
       "      <td>Futrelle, Mrs. Jacques Heath (Lily May Peel)</td>\n",
       "      <td>female</td>\n",
       "      <td>35.0</td>\n",
       "      <td>1</td>\n",
       "      <td>0</td>\n",
       "      <td>113803</td>\n",
       "      <td>53.1000</td>\n",
       "      <td>C123</td>\n",
       "      <td>S</td>\n",
       "    </tr>\n",
       "    <tr>\n",
       "      <th>4</th>\n",
       "      <td>5</td>\n",
       "      <td>0</td>\n",
       "      <td>3</td>\n",
       "      <td>Allen, Mr. William Henry</td>\n",
       "      <td>male</td>\n",
       "      <td>35.0</td>\n",
       "      <td>0</td>\n",
       "      <td>0</td>\n",
       "      <td>373450</td>\n",
       "      <td>8.0500</td>\n",
       "      <td>NaN</td>\n",
       "      <td>S</td>\n",
       "    </tr>\n",
       "    <tr>\n",
       "      <th>5</th>\n",
       "      <td>6</td>\n",
       "      <td>0</td>\n",
       "      <td>3</td>\n",
       "      <td>Moran, Mr. James</td>\n",
       "      <td>male</td>\n",
       "      <td>NaN</td>\n",
       "      <td>0</td>\n",
       "      <td>0</td>\n",
       "      <td>330877</td>\n",
       "      <td>8.4583</td>\n",
       "      <td>NaN</td>\n",
       "      <td>Q</td>\n",
       "    </tr>\n",
       "    <tr>\n",
       "      <th>6</th>\n",
       "      <td>7</td>\n",
       "      <td>0</td>\n",
       "      <td>1</td>\n",
       "      <td>McCarthy, Mr. Timothy J</td>\n",
       "      <td>male</td>\n",
       "      <td>54.0</td>\n",
       "      <td>0</td>\n",
       "      <td>0</td>\n",
       "      <td>17463</td>\n",
       "      <td>51.8625</td>\n",
       "      <td>E46</td>\n",
       "      <td>S</td>\n",
       "    </tr>\n",
       "    <tr>\n",
       "      <th>7</th>\n",
       "      <td>8</td>\n",
       "      <td>0</td>\n",
       "      <td>3</td>\n",
       "      <td>Palsson, Master. Gosta Leonard</td>\n",
       "      <td>male</td>\n",
       "      <td>2.0</td>\n",
       "      <td>3</td>\n",
       "      <td>1</td>\n",
       "      <td>349909</td>\n",
       "      <td>21.0750</td>\n",
       "      <td>NaN</td>\n",
       "      <td>S</td>\n",
       "    </tr>\n",
       "    <tr>\n",
       "      <th>8</th>\n",
       "      <td>9</td>\n",
       "      <td>1</td>\n",
       "      <td>3</td>\n",
       "      <td>Johnson, Mrs. Oscar W (Elisabeth Vilhelmina Berg)</td>\n",
       "      <td>female</td>\n",
       "      <td>27.0</td>\n",
       "      <td>0</td>\n",
       "      <td>2</td>\n",
       "      <td>347742</td>\n",
       "      <td>11.1333</td>\n",
       "      <td>NaN</td>\n",
       "      <td>S</td>\n",
       "    </tr>\n",
       "    <tr>\n",
       "      <th>9</th>\n",
       "      <td>10</td>\n",
       "      <td>1</td>\n",
       "      <td>2</td>\n",
       "      <td>Nasser, Mrs. Nicholas (Adele Achem)</td>\n",
       "      <td>female</td>\n",
       "      <td>14.0</td>\n",
       "      <td>1</td>\n",
       "      <td>0</td>\n",
       "      <td>237736</td>\n",
       "      <td>30.0708</td>\n",
       "      <td>NaN</td>\n",
       "      <td>C</td>\n",
       "    </tr>\n",
       "  </tbody>\n",
       "</table>\n",
       "</div>"
      ],
      "text/plain": [
       "   PassengerId  Survived  Pclass  \\\n",
       "0            1         0       3   \n",
       "1            2         1       1   \n",
       "2            3         1       3   \n",
       "3            4         1       1   \n",
       "4            5         0       3   \n",
       "5            6         0       3   \n",
       "6            7         0       1   \n",
       "7            8         0       3   \n",
       "8            9         1       3   \n",
       "9           10         1       2   \n",
       "\n",
       "                                                Name     Sex   Age  SibSp  \\\n",
       "0                            Braund, Mr. Owen Harris    male  22.0      1   \n",
       "1  Cumings, Mrs. John Bradley (Florence Briggs Th...  female  38.0      1   \n",
       "2                             Heikkinen, Miss. Laina  female  26.0      0   \n",
       "3       Futrelle, Mrs. Jacques Heath (Lily May Peel)  female  35.0      1   \n",
       "4                           Allen, Mr. William Henry    male  35.0      0   \n",
       "5                                   Moran, Mr. James    male   NaN      0   \n",
       "6                            McCarthy, Mr. Timothy J    male  54.0      0   \n",
       "7                     Palsson, Master. Gosta Leonard    male   2.0      3   \n",
       "8  Johnson, Mrs. Oscar W (Elisabeth Vilhelmina Berg)  female  27.0      0   \n",
       "9                Nasser, Mrs. Nicholas (Adele Achem)  female  14.0      1   \n",
       "\n",
       "   Parch            Ticket     Fare Cabin Embarked  \n",
       "0      0         A/5 21171   7.2500   NaN        S  \n",
       "1      0          PC 17599  71.2833   C85        C  \n",
       "2      0  STON/O2. 3101282   7.9250   NaN        S  \n",
       "3      0            113803  53.1000  C123        S  \n",
       "4      0            373450   8.0500   NaN        S  \n",
       "5      0            330877   8.4583   NaN        Q  \n",
       "6      0             17463  51.8625   E46        S  \n",
       "7      1            349909  21.0750   NaN        S  \n",
       "8      2            347742  11.1333   NaN        S  \n",
       "9      0            237736  30.0708   NaN        C  "
      ]
     },
     "execution_count": 2,
     "metadata": {},
     "output_type": "execute_result"
    }
   ],
   "source": [
    "##Leitura do arquivo que será analisado\n",
    "titanic_df = pd.read_csv('titanic_data.csv')\n",
    "\n",
    "##Apresentando a um trecho dos dados para verificar a quais são os dados e qual sua ordem.\n",
    "titanic_df.head(10)"
   ]
  },
  {
   "cell_type": "markdown",
   "metadata": {
    "scrolled": true
   },
   "source": [
    "Além da modificação necessária no filtro dos dados que não foram preenchidos, \n",
    "será necessária também alteração de alguns pontos dos nossos dados.\n",
    "A modificação dos nomes de alguns dados das variáveis, buscnado melhor entendimento. \n",
    " - Os dados são de 891 passageiros, 2435\n",
    "    - de 'S', 'C' e 'Q' para 'Cherbourg', 'Queenstown' e 'Southampton'\n",
    "    - de 'female', 'male' para 'm', 'h'\n"
   ]
  },
  {
   "cell_type": "code",
   "execution_count": 3,
   "metadata": {},
   "outputs": [
    {
     "data": {
      "text/plain": [
       "(891, 12)"
      ]
     },
     "execution_count": 3,
     "metadata": {},
     "output_type": "execute_result"
    }
   ],
   "source": [
    "#código da modificação\n",
    "\n",
    "titanic_df['Embarked'] = titanic_df['Embarked'].replace (['S','C','Q'],['Cherbourg', 'Queenstown', 'Southampton'])\n",
    "titanic_df['Sex'] = titanic_df['Sex'].replace (['female','male'], ['m','h'])\n",
    "\n",
    "##Verificar o tamanho do arquivo em tamanho de linhas e colunas\n",
    "##Eliminar colunas que não tenham importância para a análise\n",
    "\n",
    "titanic_df.shape"
   ]
  },
  {
   "cell_type": "code",
   "execution_count": 4,
   "metadata": {
    "scrolled": true
   },
   "outputs": [
    {
     "data": {
      "text/html": [
       "<div>\n",
       "<style>\n",
       "    .dataframe thead tr:only-child th {\n",
       "        text-align: right;\n",
       "    }\n",
       "\n",
       "    .dataframe thead th {\n",
       "        text-align: left;\n",
       "    }\n",
       "\n",
       "    .dataframe tbody tr th {\n",
       "        vertical-align: top;\n",
       "    }\n",
       "</style>\n",
       "<table border=\"1\" class=\"dataframe\">\n",
       "  <thead>\n",
       "    <tr style=\"text-align: right;\">\n",
       "      <th></th>\n",
       "      <th>Survived</th>\n",
       "      <th>Pclass</th>\n",
       "      <th>Sex</th>\n",
       "      <th>Age</th>\n",
       "      <th>SibSp</th>\n",
       "      <th>Parch</th>\n",
       "      <th>Fare</th>\n",
       "      <th>Embarked</th>\n",
       "    </tr>\n",
       "  </thead>\n",
       "  <tbody>\n",
       "    <tr>\n",
       "      <th>0</th>\n",
       "      <td>0</td>\n",
       "      <td>3</td>\n",
       "      <td>h</td>\n",
       "      <td>22.0</td>\n",
       "      <td>1</td>\n",
       "      <td>0</td>\n",
       "      <td>7.2500</td>\n",
       "      <td>Cherbourg</td>\n",
       "    </tr>\n",
       "    <tr>\n",
       "      <th>1</th>\n",
       "      <td>1</td>\n",
       "      <td>1</td>\n",
       "      <td>m</td>\n",
       "      <td>38.0</td>\n",
       "      <td>1</td>\n",
       "      <td>0</td>\n",
       "      <td>71.2833</td>\n",
       "      <td>Queenstown</td>\n",
       "    </tr>\n",
       "    <tr>\n",
       "      <th>2</th>\n",
       "      <td>1</td>\n",
       "      <td>3</td>\n",
       "      <td>m</td>\n",
       "      <td>26.0</td>\n",
       "      <td>0</td>\n",
       "      <td>0</td>\n",
       "      <td>7.9250</td>\n",
       "      <td>Cherbourg</td>\n",
       "    </tr>\n",
       "    <tr>\n",
       "      <th>3</th>\n",
       "      <td>1</td>\n",
       "      <td>1</td>\n",
       "      <td>m</td>\n",
       "      <td>35.0</td>\n",
       "      <td>1</td>\n",
       "      <td>0</td>\n",
       "      <td>53.1000</td>\n",
       "      <td>Cherbourg</td>\n",
       "    </tr>\n",
       "    <tr>\n",
       "      <th>4</th>\n",
       "      <td>0</td>\n",
       "      <td>3</td>\n",
       "      <td>h</td>\n",
       "      <td>35.0</td>\n",
       "      <td>0</td>\n",
       "      <td>0</td>\n",
       "      <td>8.0500</td>\n",
       "      <td>Cherbourg</td>\n",
       "    </tr>\n",
       "    <tr>\n",
       "      <th>5</th>\n",
       "      <td>0</td>\n",
       "      <td>3</td>\n",
       "      <td>h</td>\n",
       "      <td>NaN</td>\n",
       "      <td>0</td>\n",
       "      <td>0</td>\n",
       "      <td>8.4583</td>\n",
       "      <td>Southampton</td>\n",
       "    </tr>\n",
       "    <tr>\n",
       "      <th>6</th>\n",
       "      <td>0</td>\n",
       "      <td>1</td>\n",
       "      <td>h</td>\n",
       "      <td>54.0</td>\n",
       "      <td>0</td>\n",
       "      <td>0</td>\n",
       "      <td>51.8625</td>\n",
       "      <td>Cherbourg</td>\n",
       "    </tr>\n",
       "    <tr>\n",
       "      <th>7</th>\n",
       "      <td>0</td>\n",
       "      <td>3</td>\n",
       "      <td>h</td>\n",
       "      <td>2.0</td>\n",
       "      <td>3</td>\n",
       "      <td>1</td>\n",
       "      <td>21.0750</td>\n",
       "      <td>Cherbourg</td>\n",
       "    </tr>\n",
       "    <tr>\n",
       "      <th>8</th>\n",
       "      <td>1</td>\n",
       "      <td>3</td>\n",
       "      <td>m</td>\n",
       "      <td>27.0</td>\n",
       "      <td>0</td>\n",
       "      <td>2</td>\n",
       "      <td>11.1333</td>\n",
       "      <td>Cherbourg</td>\n",
       "    </tr>\n",
       "    <tr>\n",
       "      <th>9</th>\n",
       "      <td>1</td>\n",
       "      <td>2</td>\n",
       "      <td>m</td>\n",
       "      <td>14.0</td>\n",
       "      <td>1</td>\n",
       "      <td>0</td>\n",
       "      <td>30.0708</td>\n",
       "      <td>Queenstown</td>\n",
       "    </tr>\n",
       "  </tbody>\n",
       "</table>\n",
       "</div>"
      ],
      "text/plain": [
       "   Survived  Pclass Sex   Age  SibSp  Parch     Fare     Embarked\n",
       "0         0       3   h  22.0      1      0   7.2500    Cherbourg\n",
       "1         1       1   m  38.0      1      0  71.2833   Queenstown\n",
       "2         1       3   m  26.0      0      0   7.9250    Cherbourg\n",
       "3         1       1   m  35.0      1      0  53.1000    Cherbourg\n",
       "4         0       3   h  35.0      0      0   8.0500    Cherbourg\n",
       "5         0       3   h   NaN      0      0   8.4583  Southampton\n",
       "6         0       1   h  54.0      0      0  51.8625    Cherbourg\n",
       "7         0       3   h   2.0      3      1  21.0750    Cherbourg\n",
       "8         1       3   m  27.0      0      2  11.1333    Cherbourg\n",
       "9         1       2   m  14.0      1      0  30.0708   Queenstown"
      ]
     },
     "execution_count": 4,
     "metadata": {},
     "output_type": "execute_result"
    }
   ],
   "source": [
    "#Eliminando as colunas que não temos interesse nesta análise. \n",
    "\n",
    "titanic_df.drop(['PassengerId','Name','Ticket','Cabin'], axis=1, inplace=True)\n",
    "\n",
    "#verificar novamente como ficaram os dados\n",
    "titanic_df.head(10)"
   ]
  },
  {
   "cell_type": "markdown",
   "metadata": {},
   "source": [
    "<b>Fazer uma verificação das informações dos dados<br>\n"
   ]
  },
  {
   "cell_type": "code",
   "execution_count": 5,
   "metadata": {},
   "outputs": [
    {
     "name": "stdout",
     "output_type": "stream",
     "text": [
      "<class 'pandas.core.frame.DataFrame'>\n",
      "RangeIndex: 891 entries, 0 to 890\n",
      "Data columns (total 8 columns):\n",
      "Survived    891 non-null int64\n",
      "Pclass      891 non-null int64\n",
      "Sex         891 non-null object\n",
      "Age         714 non-null float64\n",
      "SibSp       891 non-null int64\n",
      "Parch       891 non-null int64\n",
      "Fare        891 non-null float64\n",
      "Embarked    889 non-null object\n",
      "dtypes: float64(2), int64(4), object(2)\n",
      "memory usage: 55.8+ KB\n"
     ]
    }
   ],
   "source": [
    "titanic_df.info()"
   ]
  },
  {
   "cell_type": "markdown",
   "metadata": {},
   "source": [
    "<h1>Podemos verificar que não temos os dados de uma parcela da idade dos passageiros<br></h1>\n",
    "também verificamos que há falta na variável Embarkded, porém em menor quantidade.\n",
    "\n",
    "- A solução encontrada será utilizar um filtro para não utilizar estes valores nas apresentações dos dados, para evitar <br>\n",
    "que distorça nossos valores."
   ]
  },
  {
   "cell_type": "code",
   "execution_count": 6,
   "metadata": {
    "scrolled": true
   },
   "outputs": [
    {
     "data": {
      "text/plain": [
       "Survived      0\n",
       "Pclass        0\n",
       "Sex           0\n",
       "Age         177\n",
       "SibSp         0\n",
       "Parch         0\n",
       "Fare          0\n",
       "Embarked      2\n",
       "dtype: int64"
      ]
     },
     "execution_count": 6,
     "metadata": {},
     "output_type": "execute_result"
    }
   ],
   "source": [
    "#Para ficar mais claro, verificar a soma dos dados vazios\n",
    "#irei retirar os dados nulos para não alterar os valores totais.\n",
    "\n",
    "titanic_df.isnull().sum()"
   ]
  },
  {
   "cell_type": "markdown",
   "metadata": {},
   "source": [
    "<h1>Os dados faltantes na coluna 'Embarked' e 'Age' serão filtrados para termos, mais confiança nos dados apresentados. </h1>\n",
    "\n",
    "- Os dados da coluna Age foram elinados por haver 177 passageiros que não constavam essa informação e poderia criar erro na analise.\n",
    "- Os dados de Embarked não eram tão significativos, porém, como não se enquadrava em nenhuma categoria, optamos por retirar.\n",
    "\n",
    "PS: talvez esses dados pudessem ser inferidos, caso fossem de recém nascidos, ou filhos de outros passageiros ou outra informação que nos desse essa liberdade. Porém, a princípio esses dados serão ignorados."
   ]
  },
  {
   "cell_type": "code",
   "execution_count": 7,
   "metadata": {
    "scrolled": false
   },
   "outputs": [
    {
     "data": {
      "text/plain": [
       "Survived    0\n",
       "Pclass      0\n",
       "Sex         0\n",
       "Age         0\n",
       "SibSp       0\n",
       "Parch       0\n",
       "Fare        0\n",
       "Embarked    0\n",
       "dtype: int64"
      ]
     },
     "execution_count": 7,
     "metadata": {},
     "output_type": "execute_result"
    }
   ],
   "source": [
    "#Dados referentes a idade não serão contabilizados\n",
    "#Dados faltantes do embarque nã oserão contabilizados\n",
    "\n",
    "#titanic_df['Age'].fillna(0, inplace = True)\n",
    "titanic_df.dropna(how='any', subset =['Age'], inplace=True)\n",
    "titanic_df.dropna(how='any', subset= ['Embarked'], inplace = True)\n",
    "\n",
    "titanic_df.isnull().sum()"
   ]
  },
  {
   "cell_type": "markdown",
   "metadata": {},
   "source": [
    "<h1>Podemos observar como é distribuida a idade dos passageiros;\n",
    "\n"
   ]
  },
  {
   "cell_type": "code",
   "execution_count": 8,
   "metadata": {
    "scrolled": false
   },
   "outputs": [
    {
     "data": {
      "image/png": "[encoded data removed]",
      "text/plain": [
       "<matplotlib.figure.Figure at 0xba923c8>"
      ]
     },
     "metadata": {},
     "output_type": "display_data"
    }
   ],
   "source": [
    "#A maioria dos passageiros e tripulantes, dos quais temos as infomações, tinham entre 18 e 40 anos;\n",
    "\n",
    "titanic_df['Age'].plot.hist(bins=15)\n",
    "\n",
    "plt.xlabel('Idade')\n",
    "plt.ylabel('Numero da frequencia')\n",
    "plt.title('Idade dos passageiros')\n",
    "\n",
    "\n",
    "plt.show()"
   ]
  },
  {
   "cell_type": "markdown",
   "metadata": {},
   "source": [
    "- No eixo x temos a idade dos passageiros, cada barra tendo o valor de 5 anos.\n",
    "\n",
    "- No eixo y temos a densidade dos passageiros com a exclusão das 177 pessoas que não tinhamos a informação sobre idade.\n"
   ]
  },
  {
   "cell_type": "markdown",
   "metadata": {},
   "source": [
    "<h1> A quantidade de sobreviventes e mortos da amostra."
   ]
  },
  {
   "cell_type": "code",
   "execution_count": 9,
   "metadata": {
    "scrolled": false
   },
   "outputs": [
    {
     "data": {
      "image/png": "[encoded data removed]",
      "text/plain": [
       "<matplotlib.figure.Figure at 0x6319278>"
      ]
     },
     "metadata": {},
     "output_type": "display_data"
    }
   ],
   "source": [
    "sobrevivente = titanic_df[titanic_df['Survived'] == 1].Survived.value_counts()\n",
    "morto = titanic_df[titanic_df['Survived'] == 0].Survived.value_counts()\n",
    "\n",
    "plt.bar([0,1],[morto,sobrevivente],align='center')\n",
    "plt.xticks([0,1],[\"morreu\", \"sobreviveu\"])\n",
    "plt.title(\"Total de sobreviventes e mortos na tragedia\")\n",
    "plt.xlabel('Resumo do acidente')\n",
    "plt.ylabel('Quantidade de pessoas em unidades')\n",
    "\n",
    "plt.show()"
   ]
  },
  {
   "cell_type": "code",
   "execution_count": 10,
   "metadata": {
    "scrolled": false
   },
   "outputs": [
    {
     "data": {
      "image/png": "[encoded data removed]",
      "text/plain": [
       "<matplotlib.figure.Figure at 0xc038668>"
      ]
     },
     "metadata": {},
     "output_type": "display_data"
    }
   ],
   "source": [
    "#Ao analisarmos o gráfico referente ao gênero dos passageiros,\n",
    "#podemos verificar que um dos gêneros sobreviveu percentualmente muito mais do que o outro.\n",
    "\n",
    "sobrevivente_genero = titanic_df[titanic_df[\"Survived\"] == 1].Sex.value_counts()\n",
    "morto_genero = titanic_df[titanic_df[\"Survived\"] == 0].Sex.value_counts()\n",
    "\n",
    "df_morte_genero = pd.DataFrame([sobrevivente_genero,morto_genero])\n",
    "df_morte_genero.index = ['Mortos', 'Sobreviventes']\n",
    "df_morte_genero.plot(kind='bar')\n",
    "\n",
    "plt.title(\"Total de sobreviventes e mortos por genero\")\n",
    "plt.xlabel('Sobreviventes por sexo')\n",
    "plt.ylabel('Quantidade de passageiros em unidades')\n",
    "plt.xticks(rotation=0)\n",
    "plt.tight_layout()\n",
    "\n",
    "plt.show()"
   ]
  },
  {
   "cell_type": "markdown",
   "metadata": {},
   "source": [
    " <h1>O percentual de sobreviência, pode ter alguma relação com a classe? "
   ]
  },
  {
   "cell_type": "code",
   "execution_count": 11,
   "metadata": {
    "scrolled": false
   },
   "outputs": [
    {
     "data": {
      "image/png": "[encoded data removed]",
      "text/plain": [
       "<matplotlib.figure.Figure at 0xc038dd8>"
      ]
     },
     "metadata": {},
     "output_type": "display_data"
    },
    {
     "data": {
      "image/png": "[encoded data removed]",
      "text/plain": [
       "<matplotlib.figure.Figure at 0xcd46f98>"
      ]
     },
     "metadata": {},
     "output_type": "display_data"
    }
   ],
   "source": [
    "#Nesse caso temos um caso claríssimo de que a terceira classe foi a que mais morreu, não só pela média\n",
    "#mas por sua enorme diferença em números absolutos.\n",
    "\n",
    "sobreviventes1class = titanic_df[titanic_df['Pclass'] == 1].Survived.value_counts()\n",
    "sobreviventes2class = titanic_df[titanic_df['Pclass'] == 2].Survived.value_counts()\n",
    "sobreviventes3class = titanic_df[titanic_df['Pclass'] == 3].Survived.value_counts()\n",
    "\n",
    "df_classe = pd.DataFrame([sobreviventes1class,sobreviventes2class,sobreviventes3class])\n",
    "\n",
    "df_classe.index = [\"Primeira Classe\",\"Segunda Classe\",\"Terceira Classe\"]\n",
    "df_classe.columns = [\"Morreu\",\"Sobreviveu\"]\n",
    "df_classe[['Sobreviveu',\"Morreu\"]].plot(kind=\"bar\")\n",
    "plt.title(\"Total de sobreviventes e mortos na tragedia, por classe\")\n",
    "plt.xlabel('Classe')\n",
    "plt.ylabel('Total passageiros sobreviventes/mortos')\n",
    "plt.xticks(rotation=0)\n",
    "\n",
    "plt.tight_layout()\n",
    "plt.show()\n",
    "\n",
    "\n",
    "sns.factorplot('Pclass', data=titanic_df, kind=\"count\")\n",
    "\n",
    "plt.title(\"Separacao de passageiros por classe\")\n",
    "plt.xlabel('Classe')\n",
    "plt.ylabel('Total separado por classe')\n",
    "plt.show()"
   ]
  },
  {
   "cell_type": "markdown",
   "metadata": {},
   "source": [
    "No primeriro gráfico é fácil observamos que quase 500 passageiros da nossa  amostra eram da terceira classe.<br>\n",
    "A análise nos permite afirmar que mais de 350 pessoas da terceira classe morreram, e foi a classe mais afetada no acidente, tendo o maior número de baixas do navio não só em números, mas proporcionalmente. \n",
    "\n",
    "Os menos afetados foram os passageiros da primeira classe, onde tiveram mais sobreviventes do que mortos."
   ]
  },
  {
   "cell_type": "markdown",
   "metadata": {},
   "source": [
    "-----"
   ]
  },
  {
   "cell_type": "markdown",
   "metadata": {},
   "source": [
    "<h1>Qual a proporção de mortos, baseado na localização de embarque?</h1>\n",
    "\n",
    "Podemos analisar que a maior população das três cidades é a de Southampton\n",
    "está cidade tem mais de 3x o valor da segunda cidade em população\n",
    "podemos inferir que o navio tenha partido de Southampton, mas embora,\n",
    "mais pessoas tenham morrido da cidade southampton, proporcionalmente não verificamos isso"
   ]
  },
  {
   "cell_type": "code",
   "execution_count": 12,
   "metadata": {
    "scrolled": false
   },
   "outputs": [
    {
     "data": {
      "image/png": "[encoded data removed]",
      "text/plain": [
       "<matplotlib.figure.Figure at 0xcd50be0>"
      ]
     },
     "metadata": {},
     "output_type": "display_data"
    }
   ],
   "source": [
    "livebylocC = titanic_df[titanic_df['Embarked'] == 'Cherbourg'].Survived.value_counts()\n",
    "livebylocQ = titanic_df[titanic_df['Embarked'] == 'Queenstown'].Survived.value_counts()\n",
    "livebylocS = titanic_df[titanic_df['Embarked'] == 'Southampton'].Survived.value_counts()\n",
    "\n",
    "df_embarque = pd.DataFrame([livebylocC,livebylocQ,livebylocS]) \n",
    "\n",
    "df_embarque.index = ['Cherbourg', 'Queenstown', 'Southampton']\n",
    "df_embarque.columns = [\"Sobreviveu\",\"Morreu\"]\n",
    "df_embarque[['Sobreviveu',\"Morreu\"]].plot(kind=\"bar\",stacked=True)\n",
    "plt.title(\"Analise de local de embarque\")\n",
    "plt.xlabel('Cidade de embarque')\n",
    "plt.ylabel('Total de pessoas em unidades')\n",
    "plt.xticks(rotation=0)\n",
    "plt.tight_layout()\n",
    "plt.show()"
   ]
  },
  {
   "cell_type": "markdown",
   "metadata": {},
   "source": [
    "<h1>Neste gráfico podemos verificar qual é a distibuição de idade por classes</h1>\n"
   ]
  },
  {
   "cell_type": "code",
   "execution_count": 13,
   "metadata": {
    "collapsed": true
   },
   "outputs": [],
   "source": [
    "#titanic_df.grouby('Survived')['Pclass'].plot(kind=\"kde\")\n",
    "#plt.show()"
   ]
  },
  {
   "cell_type": "code",
   "execution_count": 14,
   "metadata": {
    "scrolled": false
   },
   "outputs": [
    {
     "data": {
      "image/png": "[encoded data removed]",
      "text/plain": [
       "<matplotlib.figure.Figure at 0xc1fd0f0>"
      ]
     },
     "metadata": {},
     "output_type": "display_data"
    }
   ],
   "source": [
    "titanic_df.groupby('Survived')['Age'].plot(kind=\"kde\")\n",
    "\n",
    "plt.title=('Estimativa de Densidade das Idades')\n",
    "plt.xlabel=('Idade')\n",
    "plt.ylabel=('Densidade')\n",
    "plt.xlim(0,90)\n",
    "\n",
    "plt.legend(['Falecido','Sobrevivente'])\n",
    "\n",
    "plt.show()"
   ]
  },
  {
   "cell_type": "markdown",
   "metadata": {},
   "source": [
    "<h1>Qual a relação entre a classe e o número de sobreviventes?</h1>\n",
    "\n",
    "Modificando a variável de sobreviventes e deixando 0 ou 1 os cálculos funcionaram.\n",
    "\n",
    "Na tabela de correlação, podemos verificar que há uma diferença entre o \"Pclass\" x \"Survived\".\n",
    "\n",
    "Vamos encararar como erro de arredondamento. \n"
   ]
  },
  {
   "cell_type": "code",
   "execution_count": 15,
   "metadata": {},
   "outputs": [
    {
     "name": "stdout",
     "output_type": "stream",
     "text": [
      "-0.356461588445\n"
     ]
    }
   ],
   "source": [
    "#Poderíamos fazer uma análise sobre a correção entre o número de sobreviventes e algumas outras variáveis\n",
    "\n",
    "#Aqui podemos ter a relação da entre a sobrevivência e a classe do passageiro\n",
    "#Quanto mais próximo de 1 ou de -1 maior a relação entre as duas variáveis\n",
    "#Segundo este análise, poderíamos concluir que a classe tenha alguma influência na sobrevivência\n",
    "#Mas não é o fator determinante\n",
    "\n",
    "def correlation (x, y):\n",
    "    std_x = (x - y.mean()) / x.std(ddof=0)   ##(ddof=1) caso fosse a população completa\n",
    "    std_y = (y - y.mean()) / y.std(ddof=0)\n",
    "    \n",
    "    return (std_x * std_y).mean()\n",
    "\n",
    "\n",
    "print (correlation(titanic_df['Survived'],titanic_df['Pclass']))\n",
    "\n"
   ]
  },
  {
   "cell_type": "code",
   "execution_count": 16,
   "metadata": {},
   "outputs": [
    {
     "data": {
      "text/html": [
       "<div>\n",
       "<style>\n",
       "    .dataframe thead tr:only-child th {\n",
       "        text-align: right;\n",
       "    }\n",
       "\n",
       "    .dataframe thead th {\n",
       "        text-align: left;\n",
       "    }\n",
       "\n",
       "    .dataframe tbody tr th {\n",
       "        vertical-align: top;\n",
       "    }\n",
       "</style>\n",
       "<table border=\"1\" class=\"dataframe\">\n",
       "  <thead>\n",
       "    <tr style=\"text-align: right;\">\n",
       "      <th></th>\n",
       "      <th>Survived</th>\n",
       "      <th>Pclass</th>\n",
       "      <th>Age</th>\n",
       "      <th>SibSp</th>\n",
       "      <th>Parch</th>\n",
       "      <th>Fare</th>\n",
       "    </tr>\n",
       "  </thead>\n",
       "  <tbody>\n",
       "    <tr>\n",
       "      <th>Survived</th>\n",
       "      <td>1.000000</td>\n",
       "      <td>-0.356462</td>\n",
       "      <td>-0.082446</td>\n",
       "      <td>-0.015523</td>\n",
       "      <td>0.095265</td>\n",
       "      <td>0.266100</td>\n",
       "    </tr>\n",
       "    <tr>\n",
       "      <th>Pclass</th>\n",
       "      <td>-0.356462</td>\n",
       "      <td>1.000000</td>\n",
       "      <td>-0.365902</td>\n",
       "      <td>0.065187</td>\n",
       "      <td>0.023666</td>\n",
       "      <td>-0.552893</td>\n",
       "    </tr>\n",
       "    <tr>\n",
       "      <th>Age</th>\n",
       "      <td>-0.082446</td>\n",
       "      <td>-0.365902</td>\n",
       "      <td>1.000000</td>\n",
       "      <td>-0.307351</td>\n",
       "      <td>-0.187896</td>\n",
       "      <td>0.093143</td>\n",
       "    </tr>\n",
       "    <tr>\n",
       "      <th>SibSp</th>\n",
       "      <td>-0.015523</td>\n",
       "      <td>0.065187</td>\n",
       "      <td>-0.307351</td>\n",
       "      <td>1.000000</td>\n",
       "      <td>0.383338</td>\n",
       "      <td>0.139860</td>\n",
       "    </tr>\n",
       "    <tr>\n",
       "      <th>Parch</th>\n",
       "      <td>0.095265</td>\n",
       "      <td>0.023666</td>\n",
       "      <td>-0.187896</td>\n",
       "      <td>0.383338</td>\n",
       "      <td>1.000000</td>\n",
       "      <td>0.206624</td>\n",
       "    </tr>\n",
       "    <tr>\n",
       "      <th>Fare</th>\n",
       "      <td>0.266100</td>\n",
       "      <td>-0.552893</td>\n",
       "      <td>0.093143</td>\n",
       "      <td>0.139860</td>\n",
       "      <td>0.206624</td>\n",
       "      <td>1.000000</td>\n",
       "    </tr>\n",
       "  </tbody>\n",
       "</table>\n",
       "</div>"
      ],
      "text/plain": [
       "          Survived    Pclass       Age     SibSp     Parch      Fare\n",
       "Survived  1.000000 -0.356462 -0.082446 -0.015523  0.095265  0.266100\n",
       "Pclass   -0.356462  1.000000 -0.365902  0.065187  0.023666 -0.552893\n",
       "Age      -0.082446 -0.365902  1.000000 -0.307351 -0.187896  0.093143\n",
       "SibSp    -0.015523  0.065187 -0.307351  1.000000  0.383338  0.139860\n",
       "Parch     0.095265  0.023666 -0.187896  0.383338  1.000000  0.206624\n",
       "Fare      0.266100 -0.552893  0.093143  0.139860  0.206624  1.000000"
      ]
     },
     "execution_count": 16,
     "metadata": {},
     "output_type": "execute_result"
    }
   ],
   "source": [
    "#Verificar a correlação cruzada de todas variáveis. \n",
    "\n",
    "titanic_df.corr(method='pearson')"
   ]
  },
  {
   "cell_type": "markdown",
   "metadata": {},
   "source": [
    "<h1>Aqui poderemos analisar melhor como é a relação entre a classe, embarque e o número de sobreviventes."
   ]
  },
  {
   "cell_type": "code",
   "execution_count": 17,
   "metadata": {},
   "outputs": [
    {
     "data": {
      "text/plain": [
       "Embarked     Pclass\n",
       "Cherbourg    1         0.611111\n",
       "             2         0.474359\n",
       "             3         0.210345\n",
       "Queenstown   1         0.716216\n",
       "             2         0.533333\n",
       "             3         0.439024\n",
       "Southampton  1         0.500000\n",
       "             2         0.500000\n",
       "             3         0.250000\n",
       "Name: Survived, dtype: float64"
      ]
     },
     "execution_count": 17,
     "metadata": {},
     "output_type": "execute_result"
    }
   ],
   "source": [
    "titanic_df.groupby(['Embarked', 'Pclass'])['Survived'].mean()"
   ]
  },
  {
   "cell_type": "markdown",
   "metadata": {},
   "source": [
    "______________"
   ]
  },
  {
   "cell_type": "markdown",
   "metadata": {},
   "source": [
    "<h1> Conclusão: </h1>\n",
    "\n",
    "Os dados apresentados, nos permitem inferir que os botes provavelmente davam preferências para mulheres e crianças.\n",
    "Pessoas de uma classe mais alta, sobreviveram muito mais do que pessoas de classe mais baixa.\n",
    "A maioria dos falecidos eram de Southamtom, o que podemos induzir que era a cidade de onde saia o Navio. \n",
    "\n",
    "Não poderíamos afirmar veemente que a causa maior de mortes é a classe, sexo ou idade, embora os dados possam nos influenciar a isso... A amostra nos da uma boa visão sobre a tragédia, porém existem inúmeras outras coisas que influenciariam nossa análise como: \n",
    "Será que as classe mais alta sobreviveu por ter mais dinheiro ou porque a cabina ficava numa parte mais segura do navio? ou mais próximo aos barcos? \n",
    "Como foi feita a triagem dos botes salva-vidas? \n",
    "As mulheres foram salvas ou apenas não foram tão ousadas quanto os homens? \n",
    "\n",
    "Também excluímos algumas variáveis das quais não iria ser feita nenhuma análise no momento, evitando poluição visual dos dados, porém, muitos dados nos podiam ser úteis, como por exemplo o nome dos passageiros, para sabermos qual o percentual de sobreviventes que faziam parte da tripulação do Navio, a patente, a profissão, à qual pertence e familia e afins.\n",
    "\n",
    "Nossos dados são uma amostra de quase 900 pessoas de um total de quase 2500."
   ]
  },
  {
   "cell_type": "markdown",
   "metadata": {},
   "source": [
    "__________"
   ]
  },
  {
   "cell_type": "markdown",
   "metadata": {},
   "source": [
    "<h1> Fontes e referências: </h1>\n",
    "\n",
    "\n",
    "Youtube:\n",
    "\n",
    "- https://www.youtube.com/watch?v=vIJwq6QjZL8\n",
    "- https://www.youtube.com/watch?v=fCMrO_VzeL8\n",
    "- https://www.youtube.com/watch?v=EaGbS7eWSs0\n",
    "\n",
    "Livros:\n",
    "\n",
    "- Grus, Joe, Editora Alta Books, Data Science do Zero\n",
    "\n",
    "Cursos adicionais:\n",
    "- Cursos de Python do DataCamp\n",
    "\n",
    "Kaggle,github,blogs:\n",
    "- https://www.kaggle.com/boundter/first-exploration-and-prediction\n",
    "- https://github.com/agconti/kaggle-titanic/blob/master/Titanic.ipynb\n",
    "- https://paulovasconcellos.com.br/o-que-o-naufr%C3%A1gio-do-titanic-nos-ensina-at%C3%A9-hoje-data-science-project-2fea8ff1c9b5"
   ]
  },
  {
   "cell_type": "code",
   "execution_count": null,
   "metadata": {
    "collapsed": true
   },
   "outputs": [],
   "source": []
  },
  {
   "cell_type": "code",
   "execution_count": null,
   "metadata": {
    "collapsed": true
   },
   "outputs": [],
   "source": []
  },
  {
   "cell_type": "code",
   "execution_count": null,
   "metadata": {
    "collapsed": true,
    "scrolled": true
   },
   "outputs": [],
   "source": []
  },
  {
   "cell_type": "code",
   "execution_count": null,
   "metadata": {
    "collapsed": true
   },
   "outputs": [],
   "source": []
  },
  {
   "cell_type": "raw",
   "metadata": {},
   "source": []
  },
  {
   "cell_type": "code",
   "execution_count": null,
   "metadata": {
    "collapsed": true
   },
   "outputs": [],
   "source": [
    "\n"
   ]
  },
  {
   "cell_type": "code",
   "execution_count": null,
   "metadata": {
    "collapsed": true
   },
   "outputs": [],
   "source": []
  },
  {
   "cell_type": "code",
   "execution_count": null,
   "metadata": {
    "collapsed": true
   },
   "outputs": [],
   "source": []
  }
 ],
 "metadata": {
  "kernelspec": {
   "display_name": "Python 2",
   "language": "python",
   "name": "python2"
  },
  "language_info": {
   "codemirror_mode": {
    "name": "ipython",
    "version": 2
   },
   "file_extension": ".py",
   "mimetype": "text/x-python",
   "name": "python",
   "nbconvert_exporter": "python",
   "pygments_lexer": "ipython2",
   "version": "2.7.13"
  }
 },
 "nbformat": 4,
 "nbformat_minor": 2
}
